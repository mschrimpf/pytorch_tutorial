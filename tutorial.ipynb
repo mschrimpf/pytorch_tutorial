{
 "cells": [
  {
   "cell_type": "markdown",
   "metadata": {
    "pycharm": {
     "name": "#%% md\n"
    }
   },
   "source": [
    "prerequisites"
   ]
  },
  {
   "cell_type": "code",
   "execution_count": 1,
   "metadata": {
    "pycharm": {
     "is_executing": false,
     "name": "#%%\n"
    }
   },
   "outputs": [],
   "source": [
    "import numpy as np\n",
    "import seaborn\n",
    "import torch\n",
    "import torch.nn.functional as F\n",
    "from matplotlib import pyplot\n",
    "from torchvision import datasets, transforms\n",
    "from tqdm.auto import tqdm\n",
    "seaborn.set()  # pretty figures\n",
    "device = 'cpu'  # set to 'cuda' if you have a GPU with CUDA"
   ]
  },
  {
   "cell_type": "markdown",
   "metadata": {
    "collapsed": true,
    "pycharm": {
     "name": "#%% md\n"
    }
   },
   "source": [
    "MNIST because quickly trains on CPU"
   ]
  },
  {
   "cell_type": "code",
   "execution_count": 2,
   "metadata": {
    "pycharm": {
     "is_executing": false,
     "name": "#%% \n"
    }
   },
   "outputs": [],
   "source": [
    "preprocessing = transforms.Compose([\n",
    "                           transforms.ToTensor(),\n",
    "                           transforms.Normalize((0.1307,), (0.3081,))  # MNIST mean+std\n",
    "                       ])\n",
    "mnist_train = datasets.MNIST('./data', train=True, download=True, transform=preprocessing)\n",
    "mnist_test = datasets.MNIST('./data', train=False, transform=preprocessing)\n",
    "train_loader = torch.utils.data.DataLoader(mnist_train, batch_size=64, shuffle=True, num_workers=8)\n",
    "test_loader = torch.utils.data.DataLoader(mnist_test, batch_size=1000, shuffle=True, num_workers=8)"
   ]
  },
  {
   "cell_type": "markdown",
   "metadata": {
    "pycharm": {
     "name": "#%% md\n"
    }
   },
   "source": [
    "show some images"
   ]
  },
  {
   "cell_type": "code",
   "execution_count": 3,
   "metadata": {
    "pycharm": {
     "is_executing": false,
     "name": "#%%\n"
    }
   },
   "outputs": [
    {
     "name": "stderr",
     "output_type": "stream",
     "text": [
      "C:\\Users\\Martin\\AppData\\Local\\conda\\conda\\envs\\pytorch_tutorial\\lib\\site-packages\\ipykernel_launcher.py:10: UserWarning: Matplotlib is currently using module://ipykernel.pylab.backend_inline, which is a non-GUI backend, so cannot show the figure.\n",
      "  # Remove the CWD from sys.path while we load stuff.\n"
     ]
    },
    {
     "data": {
      "image/png": "[encoded data removed]",
      "text/plain": [
       "<Figure size 432x288 with 10 Axes>"
      ]
     },
     "metadata": {},
     "output_type": "display_data"
    }
   ],
   "source": [
    "np.random.seed(0)\n",
    "bunch_of_images = np.random.randint(len(mnist_train), size=10)\n",
    "bunch_of_images = [mnist_train[i] for i in bunch_of_images]\n",
    "fig, axes = pyplot.subplots(ncols=len(bunch_of_images))\n",
    "for ax, (image_tensor, label) in zip(axes, bunch_of_images):\n",
    "    ax.imshow(image_tensor.numpy().squeeze(), cmap='gray')\n",
    "    ax.set_title(label)\n",
    "    ax.set_xticks([])\n",
    "    ax.set_yticks([])\n",
    "fig.show()\n"
   ]
  },
  {
   "cell_type": "markdown",
   "metadata": {
    "pycharm": {
     "name": "#%% md\n"
    }
   },
   "source": [
    "single-layer\n",
    "\n",
    "make network"
   ]
  },
  {
   "cell_type": "code",
   "execution_count": 4,
   "metadata": {
    "pycharm": {
     "is_executing": false,
     "name": "#%% \n"
    }
   },
   "outputs": [],
   "source": [
    "class SingleLayerNet(torch.nn.Module):\n",
    "    def __init__(self):\n",
    "        super(SingleLayerNet, self).__init__()\n",
    "        self.fc = torch.nn.Linear(28 * 28, 10)\n",
    "        \n",
    "    def forward(self, x):\n",
    "        x = torch.flatten(x, start_dim=1)  # flatten width x height, but not the batch\n",
    "        x = self.fc(x)\n",
    "        return F.log_softmax(x, dim=1)\n",
    "    "
   ]
  },
  {
   "cell_type": "markdown",
   "metadata": {
    "pycharm": {
     "name": "#%% md\n"
    }
   },
   "source": [
    "train"
   ]
  },
  {
   "cell_type": "code",
   "execution_count": 8,
   "metadata": {
    "pycharm": {
     "is_executing": false,
     "name": "#%% \n"
    }
   },
   "outputs": [],
   "source": [
    "def train(model, data_loader, num_epochs=5, learning_rate=0.01, momentum=0.5, device='cpu'):\n",
    "    model.train()  # set model into training mode: notify e.g. dropout/batchnorm layers\n",
    "    # The loss is a differentiable scalar telling us how far off we are.\n",
    "    # This function will also backward-compute the contribution of all parameters to the output (i.e. the gradients)\n",
    "    loss = F.nll_loss\n",
    "    # The optimizer uses the computed gradients to update the weights\n",
    "    optimizer = torch.optim.SGD(model.parameters(), lr=learning_rate, momentum=momentum)\n",
    "    losses = []\n",
    "    step_progressbar = tqdm(total=num_epochs * len(data_loader.dataset), desc='training steps')\n",
    "    for epoch in range(num_epochs):\n",
    "        for batch_inputs, batch_targets in data_loader:\n",
    "            batch_inputs, batch_targets = batch_inputs.to(device), batch_targets.to(device)\n",
    "            optimizer.zero_grad()  # reset gradients\n",
    "            predictions = model(batch_inputs)\n",
    "            batch_loss = loss(predictions, batch_targets)\n",
    "            batch_loss.backward()  # backward step: compute gradients\n",
    "            optimizer.step()  # optimizer step: apply gradients to parameters\n",
    "            step_progressbar.update(len(batch_inputs))\n",
    "            step_progressbar.set_postfix(loss=batch_loss.item(), epoch=epoch)\n",
    "            losses.append(batch_loss.item())\n",
    "    return losses"
   ]
  },
  {
   "cell_type": "code",
   "execution_count": 9,
   "metadata": {
    "pycharm": {
     "is_executing": false,
     "name": "#%% \n"
    }
   },
   "outputs": [
    {
     "data": {
      "application/vnd.jupyter.widget-view+json": {
       "model_id": "b15830a9115444069026c08f0e97ff9e",
       "version_major": 2,
       "version_minor": 0
      },
      "text/plain": [
       "HBox(children=(IntProgress(value=0, description='training steps', max=300000, style=ProgressStyle(description_…"
      ]
     },
     "metadata": {},
     "output_type": "display_data"
    },
    {
     "data": {
      "text/plain": [
       "<matplotlib.collections.PathCollection at 0x2a02ea53f48>"
      ]
     },
     "execution_count": 9,
     "metadata": {},
     "output_type": "execute_result"
    },
    {
     "data": {
      "image/png": "[encoded data removed]",
      "text/plain": [
       "<Figure size 432x288 with 1 Axes>"
      ]
     },
     "metadata": {
      "needs_background": "light"
     },
     "output_type": "display_data"
    }
   ],
   "source": [
    "naive_net = SingleLayerNet()\n",
    "naive_net = naive_net.to(device)\n",
    "losses = train(naive_net, train_loader, device=device)\n",
    "pyplot.scatter(x=list(range(len(losses))), y=losses)"
   ]
  },
  {
   "cell_type": "markdown",
   "metadata": {
    "pycharm": {
     "name": "#%% md\n"
    }
   },
   "source": [
    "test"
   ]
  },
  {
   "cell_type": "code",
   "execution_count": 10,
   "metadata": {
    "pycharm": {
     "is_executing": false,
     "name": "#%% \n"
    }
   },
   "outputs": [],
   "source": [
    "def test(model, data, device='cpu'):\n",
    "    model.eval()\n",
    "    correct = 0\n",
    "    with torch.no_grad():  # no need to compute gradients\n",
    "        for batch_inputs, batch_targets in data:\n",
    "            batch_inputs, batch_targets = batch_inputs.to(device), batch_targets.to(device)\n",
    "            softmax_output = model(batch_inputs)\n",
    "            predictions = softmax_output.argmax(dim=1, keepdim=True) # get the index of the max log-probability\n",
    "            correct += predictions.eq(batch_targets.view_as(predictions)).sum().item()\n",
    "    return 100 * correct / len(data.dataset)\n",
    "    "
   ]
  },
  {
   "cell_type": "code",
   "execution_count": 11,
   "metadata": {
    "pycharm": {
     "is_executing": false,
     "name": "#%% \n"
    }
   },
   "outputs": [
    {
     "name": "stdout",
     "output_type": "stream",
     "text": [
      "Train top-1: 92.35% | Test top-1: 92.04%\n"
     ]
    }
   ],
   "source": [
    "train_accuracy = test(naive_net, train_loader, device=device)\n",
    "test_accuracy = test(naive_net, test_loader, device=device)\n",
    "print(f\"Train top-1: {train_accuracy:.2f}% | Test top-1: {test_accuracy:.2f}%\")"
   ]
  },
  {
   "cell_type": "markdown",
   "metadata": {
    "pycharm": {
     "name": "#%% md\n"
    }
   },
   "source": [
    "multi-layer model"
   ]
  },
  {
   "cell_type": "code",
   "execution_count": null,
   "metadata": {
    "pycharm": {
     "is_executing": false,
     "name": "#%%\n"
    }
   },
   "outputs": [],
   "source": [
    "class DeepNet(torch.nn.Module):\n",
    "    def __init__(self):\n",
    "        super(DeepNet, self).__init__()\n",
    "        self.conv1 = torch.nn.Conv2d(1, 20, 5, 1)\n",
    "        self.conv2 = torch.nn.Conv2d(20, 50, 5, 1)\n",
    "        self.fc1 = torch.nn.Linear(4*4*50, 500)\n",
    "        self.fc2 = torch.nn.Linear(500, 10)\n",
    "\n",
    "    def forward(self, x):\n",
    "        x = F.relu(self.conv1(x))\n",
    "        x = F.max_pool2d(x, 2, 2)\n",
    "        x = F.relu(self.conv2(x))\n",
    "        x = F.max_pool2d(x, 2, 2)\n",
    "        x = x.view(-1, 4*4*50)\n",
    "        x = F.relu(self.fc1(x))\n",
    "        x = self.fc2(x)\n",
    "        return F.log_softmax(x, dim=1)\n",
    "\n",
    "deepnet = DeepNet()\n",
    "deepnet = deepnet.to(device)\n",
    "losses = train(deepnet, train_loader, num_epochs=10, device=device)\n",
    "pyplot.scatter(x=list(range(len(losses))), y=losses)\n",
    "pyplot.show()\n",
    "\n",
    "train_accuracy = test(deepnet, train_loader, device=device)\n",
    "test_accuracy = test(deepnet, test_loader, device=device)\n",
    "print(f\"Train top-1: {train_accuracy:.2f}% | Test top-1: {test_accuracy:.2f}%\")\n"
   ]
  },
  {
   "cell_type": "markdown",
   "metadata": {
    "pycharm": {
     "name": "#%% md\n"
    }
   },
   "source": [
    "side blow: compare with TensorFlow's MNIST implementation: \n",
    "https://github.com/tensorflow/models/blob/master/official/mnist/mnist.py"
   ]
  },
  {
   "cell_type": "markdown",
   "metadata": {
    "pycharm": {
     "name": "#%% md\n"
    }
   },
   "source": [
    "quick training FAQ (following Andrew Ng's deep learning recipe)\n",
    "\n",
    "* model can't fit the data? \n",
    "    \n",
    "    -> bigger network\n",
    "    \n",
    "    -> train longer\n",
    "    \n",
    "    -> different architecture\n",
    "    \n",
    "* low accuracy on test data?\n",
    "\n",
    "    -> more data\n",
    "    \n",
    "    -> more regularization\n",
    "    \n",
    "    -> different architecture"
   ]
  },
  {
   "cell_type": "markdown",
   "metadata": {
    "pycharm": {
     "name": "#%% md\n"
    }
   },
   "source": [
    "weight & feature visualization"
   ]
  },
  {
   "cell_type": "code",
   "execution_count": null,
   "metadata": {
    "pycharm": {
     "name": "#%% \n"
    }
   },
   "outputs": [],
   "source": [
    "fig, axes = pyplot.subplots(nrows=len(model))\n",
    "for ax, layer in zip(axes, model.modules):\n",
    "    ax.hist(layer.weight)\n",
    "    ax.set_title(layer.name)\n",
    "fig.show()\n"
   ]
  },
  {
   "cell_type": "markdown",
   "metadata": {
    "pycharm": {
     "name": "#%% md\n"
    }
   },
   "source": [
    "maybe segmentation?"
   ]
  }
 ],
 "metadata": {
  "kernelspec": {
   "display_name": "Python 3",
   "language": "python",
   "name": "python3"
  },
  "language_info": {
   "codemirror_mode": {
    "name": "ipython",
    "version": 3
   },
   "file_extension": ".py",
   "mimetype": "text/x-python",
   "name": "python",
   "nbconvert_exporter": "python",
   "pygments_lexer": "ipython3",
   "version": "3.7.4"
  },
  "pycharm": {
   "stem_cell": {
    "cell_type": "raw",
    "metadata": {
     "collapsed": false
    },
    "source": []
   }
  }
 },
 "nbformat": 4,
 "nbformat_minor": 1
}
