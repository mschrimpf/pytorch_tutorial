{
 "cells": [
  {
   "cell_type": "markdown",
   "metadata": {
    "pycharm": {
     "name": "#%% md\n"
    }
   },
   "source": [
    "# Prerequisites\n",
    "Make sure all these imports are working"
   ]
  },
  {
   "cell_type": "code",
   "execution_count": 1,
   "metadata": {
    "pycharm": {
     "is_executing": false,
     "name": "#%%\n"
    }
   },
   "outputs": [],
   "source": [
    "import numpy as np\n",
    "import seaborn\n",
    "import torch\n",
    "import torch.nn.functional as F\n",
    "from matplotlib import pyplot\n",
    "from torchvision import datasets, transforms\n",
    "from tqdm.auto import tqdm\n",
    "seaborn.set()  # pretty figures\n",
    "device = 'cpu'  # set to 'cuda' if you have a GPU with CUDA"
   ]
  },
  {
   "cell_type": "markdown",
   "metadata": {
    "collapsed": true,
    "pycharm": {
     "name": "#%% md\n"
    }
   },
   "source": [
    "# MNIST\n",
    "\n",
    "We're going to use the classic dataset \"[MNIST](http://yann.lecun.com/exdb/mnist/)\" to show-case how to build a deep-ish model in PyTorch.\n",
    "A lot of the code for this tutorial is borrowed from the corresponding [PyTorch example](https://github.com/pytorch/examples/blob/master/mnist/main.py).\n",
    "\n",
    "MNIST consists of 60,000 images of handwritten digits in 28x28 grayscale images with labels 0-9.\n",
    "The advantage of such a small dataset is that we can quickly train it, even on CPU.\n",
    "With a GPU, we could also train in minute(s) on the [CIFAR](https://github.com/pytorch/vision/blob/master/torchvision/datasets/cifar.py) dataset, and all the code of this tutorial would still apply.\n",
    "\n",
    "PyTorch offers many [vision datasets](https://pytorch.org/docs/stable/torchvision/datasets.html) in its `torchvision` package, which makes using the dataset extremely easy.\n",
    "\n",
    "Data is typically further normalized to unit mean and variance. Practically, this leads to faster convergence because all the features are normalized to the same range.\n",
    "<img src=\"ressources/normalization.jpeg\" alt=\"normalization\" title=\"image from https://cs231n.github.io/neural-networks-2/#datapre\" width=\"500\" />\n",
    "\n",
    "In PyTorch, this normalization is done using [`transforms`](https://pytorch.org/docs/stable/torchvision/transforms.html) -- a convenience package that provides common image transformations which can be chained together.\n",
    "In the following, we will build a transformation that first converts any incoming image into a tensor ([PyTorch's basic type](https://pytorch.org/docs/stable/tensors.html) of a multi-dimensional matrix) and then normalize it to MNIST's mean of 0.1307 and its standard deviation of 0.3081."
   ]
  },
  {
   "cell_type": "code",
   "execution_count": 2,
   "metadata": {
    "pycharm": {
     "is_executing": false,
     "name": "#%% \n"
    }
   },
   "outputs": [],
   "source": [
    "preprocessing = transforms.Compose([\n",
    "                           transforms.ToTensor(),  # convert image to tensor -- the basic type that PyTorch operates on\n",
    "                           transforms.Normalize((0.1307,), (0.3081,))  # MNIST mean+std\n",
    "                       ])\n",
    "mnist_train = datasets.MNIST('./data', train=True, download=True, transform=preprocessing)\n",
    "mnist_test = datasets.MNIST('./data', train=False, transform=preprocessing)"
   ]
  },
  {
   "cell_type": "markdown",
   "metadata": {
    "pycharm": {
     "name": "#%% md\n"
    }
   },
   "source": [
    "Let's visualize some images from the dataset."
   ]
  },
  {
   "cell_type": "code",
   "execution_count": 3,
   "metadata": {
    "pycharm": {
     "is_executing": false,
     "name": "#%%\n"
    }
   },
   "outputs": [
    {
     "data": {
      "image/png": "[encoded data removed]",
      "text/plain": [
       "<Figure size 432x288 with 10 Axes>"
      ]
     },
     "metadata": {},
     "output_type": "display_data"
    }
   ],
   "source": [
    "np.random.seed(0)\n",
    "bunch_of_images = np.random.randint(len(mnist_train), size=10)\n",
    "bunch_of_images = [mnist_train[i] for i in bunch_of_images]\n",
    "fig, axes = pyplot.subplots(ncols=len(bunch_of_images))\n",
    "for ax, (image_tensor, label) in zip(axes, bunch_of_images):\n",
    "    ax.imshow(image_tensor.numpy().squeeze(), cmap='gray')\n",
    "    ax.set_title(label)\n",
    "    ax.set_xticks([])\n",
    "    ax.set_yticks([])"
   ]
  },
  {
   "cell_type": "markdown",
   "metadata": {},
   "source": [
    "To quickly load the MNIST images and iterate over it in batches, PyTorch provides [DataLoaders](https://pytorch.org/docs/stable/data.html#torch.utils.data.DataLoader). A DataLoader provides an iterable over a dataset, and can use multiple workers to speed up image loading, randomly shuffle the data, and package it in batches."
   ]
  },
  {
   "cell_type": "code",
   "execution_count": 4,
   "metadata": {},
   "outputs": [],
   "source": [
    "train_loader = torch.utils.data.DataLoader(mnist_train, batch_size=64, shuffle=True, num_workers=8)\n",
    "test_loader = torch.utils.data.DataLoader(mnist_test, batch_size=1000, shuffle=True, num_workers=8)"
   ]
  },
  {
   "cell_type": "markdown",
   "metadata": {
    "pycharm": {
     "name": "#%% md\n"
    }
   },
   "source": [
    "# Creating a single-layer model\n",
    "\n",
    "Starting simple, we'll first create a model with only a single layer.\n",
    "We're using a linear layer which means that all of the layer's input nodes (in this case pixels) are connected to all of the layer's output nodes (in this case class predictions).\n",
    "<img src=\"ressources/fully_connected.png\" alt=\"fully-connected\" title=\"image from https://www.oreilly.com/library/view/tensorflow-for-deep/9781491980446/ch04.html\" width=\"200\" />\n",
    "\n",
    "In PyTorch, we can create a network class by inheriting from `torch.nn.Module`.\n",
    "In the `__init__` function, we define the model's weight layer(s).\n",
    "The `forward` function then implements how data flows through the network: in this case, incoming image batches `x` in the shape `batch x width x height` are first flattened into `batch x pixels`, then passed through our fully-connected layer, and finally these outputs are scaled to probabilities with a softmax so that all elements are ∈ [0, 1] and sum to 1."
   ]
  },
  {
   "cell_type": "code",
   "execution_count": 5,
   "metadata": {
    "pycharm": {
     "is_executing": false,
     "name": "#%% \n"
    }
   },
   "outputs": [],
   "source": [
    "class SingleLayer(torch.nn.Module):\n",
    "    def __init__(self):\n",
    "        super(SingleLayer, self).__init__()\n",
    "        self.fc = torch.nn.Linear(28 * 28, 10)\n",
    "        \n",
    "    def forward(self, x):\n",
    "        x = torch.flatten(x, start_dim=1)  # flatten width x height, but not the batch\n",
    "        x = self.fc(x)\n",
    "        return F.softmax(x, dim=1)\n",
    "    "
   ]
  },
  {
   "cell_type": "markdown",
   "metadata": {
    "pycharm": {
     "name": "#%% md\n"
    }
   },
   "source": [
    "# Training"
   ]
  },
  {
   "cell_type": "markdown",
   "metadata": {},
   "source": [
    "Next, we'll train the network.\n",
    "On top of the data and the network itself, we also need a way to compute the model deviation from target (the loss), and a way to update the weights from this discrepancy (loss + optimizer).\n",
    "\n",
    "For the loss, we use the cross-entropy-loss, a standard for multi-class classification problems.\n",
    "<img src=\"ressources/cross_entropy.png\" alt=\"cross-entropy\" title=\"image from https://pytorch.org/docs/master/nn.html#torch.nn.CrossEntropyLoss\" width=\"300\" />\n",
    "In PyTorch, the loss fulfilles two tasks: 1) the deviation of prediction from target, and 2) the backward step to compute the relative contribution of each weight to the deviationm, i.e. the derivate of the weights with respect to the loss aka the gradients.\n",
    "\n",
    "As optimizer, we use stochastic gradient descent (SGD) which simply updates weights in the opposite direction of the gradient.\n",
    "Additionally, we will use momentum which intuitively speeds up the gradient steps when the gradient has been moving in one direction for a while.\n",
    "<img src=\"ressources/sgd_momentum.png\" alt=\"cross-entropy\" title=\"image from https://blog.paperspace.com/intro-to-optimization-momentum-rmsprop-adam/\" width=\"300\" />\n",
    "For PyTorch's SGD implementation, we pass the model's parameters that it operates on, along with the learning rate α and momentum η."
   ]
  },
  {
   "cell_type": "code",
   "execution_count": 6,
   "metadata": {},
   "outputs": [],
   "source": [
    "def train(model, learning_rate=0.01, momentum=0.5):  # building up the train function\n",
    "    loss = torch.nn.CrossEntropyLoss()\n",
    "    optimizer = torch.optim.SGD(model.parameters(), lr=learning_rate, momentum=momentum)\n",
    "    # ..."
   ]
  },
  {
   "cell_type": "markdown",
   "metadata": {},
   "source": [
    "Next, we will iterate over the data in batches -- one full iteration is called an epoch -- and run multiple epochs so that the model sees the data multiple times."
   ]
  },
  {
   "cell_type": "code",
   "execution_count": 7,
   "metadata": {},
   "outputs": [],
   "source": [
    "def train(num_epochs):\n",
    "    # ...\n",
    "    for epoch in range(num_epochs):\n",
    "        for batch_inputs, batch_targets in data_loader:\n",
    "            pass  # ..."
   ]
  },
  {
   "cell_type": "markdown",
   "metadata": {},
   "source": [
    "For each batch, we do the following:\n",
    "\n",
    "1. reset the gradients\n",
    "2. run the model to obtain its predictions\n",
    "3. compute the loss\n",
    "4. compute the gradients\n",
    "5. update the weights with the optimizer"
   ]
  },
  {
   "cell_type": "code",
   "execution_count": 8,
   "metadata": {},
   "outputs": [],
   "source": [
    "def train():\n",
    "    # ...\n",
    "        # ...\n",
    "            optimizer.zero_grad()  # 1\n",
    "            predictions = model(batch_inputs)  # 2\n",
    "            batch_loss = loss(predictions, batch_targets)  # 3\n",
    "            batch_loss.backward()  # 4\n",
    "            optimizer.step()  # 5"
   ]
  },
  {
   "cell_type": "markdown",
   "metadata": {},
   "source": [
    "Putting it all together:"
   ]
  },
  {
   "cell_type": "code",
   "execution_count": 9,
   "metadata": {
    "pycharm": {
     "is_executing": false,
     "name": "#%% \n"
    }
   },
   "outputs": [],
   "source": [
    "def train(model, data_loader, num_epochs=5, learning_rate=0.01, momentum=0.5, device='cpu'):\n",
    "    model.train()  # set model into training mode: notify e.g. dropout/batchnorm layers\n",
    "    # The loss is a differentiable scalar telling us how far off we are.\n",
    "    # This function will also backward-compute the derivate of each weight w.r.t. the loss (i.e. the gradients)\n",
    "    loss = torch.nn.CrossEntropyLoss()\n",
    "    # The optimizer uses the computed gradients to update the weights\n",
    "    # see e.g. https://discuss.pytorch.org/t/what-does-the-backward-function-do/9944/2 for more details\n",
    "    optimizer = torch.optim.SGD(model.parameters(), lr=learning_rate, momentum=momentum)\n",
    "    losses = []\n",
    "    step_progressbar = tqdm(total=num_epochs * len(data_loader.dataset), desc='training steps')\n",
    "    for epoch in range(num_epochs):\n",
    "        for batch_inputs, batch_targets in data_loader:\n",
    "            batch_inputs, batch_targets = batch_inputs.to(device), batch_targets.to(device)\n",
    "            optimizer.zero_grad()  # reset gradients\n",
    "            predictions = model(batch_inputs)\n",
    "            batch_loss = loss(predictions, batch_targets)\n",
    "            batch_loss.backward()  # backward step: compute gradients\n",
    "            optimizer.step()  # optimizer step: apply gradients to parameters\n",
    "            step_progressbar.update(len(batch_inputs))\n",
    "            step_progressbar.set_postfix(loss=batch_loss.item(), epoch=epoch)\n",
    "            losses.append(batch_loss.item())\n",
    "    return losses"
   ]
  },
  {
   "cell_type": "markdown",
   "metadata": {},
   "source": [
    "Finally, let's train our single-layer network."
   ]
  },
  {
   "cell_type": "code",
   "execution_count": 10,
   "metadata": {
    "pycharm": {
     "is_executing": false,
     "name": "#%% \n"
    }
   },
   "outputs": [
    {
     "data": {
      "application/vnd.jupyter.widget-view+json": {
       "model_id": "5f7b5f7d75434c4d91e880c22b8ef477",
       "version_major": 2,
       "version_minor": 0
      },
      "text/plain": [
       "HBox(children=(IntProgress(value=0, description='training steps', max=300000, style=ProgressStyle(description_…"
      ]
     },
     "metadata": {},
     "output_type": "display_data"
    },
    {
     "data": {
      "text/plain": [
       "<matplotlib.collections.PathCollection at 0x209b56d6b08>"
      ]
     },
     "execution_count": 10,
     "metadata": {},
     "output_type": "execute_result"
    },
    {
     "data": {
      "image/png": "[encoded data removed]",
      "text/plain": [
       "<Figure size 432x288 with 1 Axes>"
      ]
     },
     "metadata": {
      "needs_background": "light"
     },
     "output_type": "display_data"
    }
   ],
   "source": [
    "naive_net = SingleLayer()\n",
    "naive_net = naive_net.to(device)\n",
    "losses = train(naive_net, train_loader, device=device)\n",
    "pyplot.scatter(x=list(range(len(losses))), y=losses)"
   ]
  },
  {
   "cell_type": "markdown",
   "metadata": {},
   "source": [
    "Great, loss is going down, so the network is learning."
   ]
  },
  {
   "cell_type": "markdown",
   "metadata": {
    "pycharm": {
     "name": "#%% md\n"
    }
   },
   "source": [
    "Let's see how well it's doing by evaluating its accuracy."
   ]
  },
  {
   "cell_type": "code",
   "execution_count": 11,
   "metadata": {
    "pycharm": {
     "is_executing": false,
     "name": "#%% \n"
    }
   },
   "outputs": [],
   "source": [
    "def test(model, data, device='cpu'):\n",
    "    model.eval()\n",
    "    correct = 0\n",
    "    with torch.no_grad():  # no need to compute gradients\n",
    "        for batch_inputs, batch_targets in data:\n",
    "            batch_inputs, batch_targets = batch_inputs.to(device), batch_targets.to(device)\n",
    "            softmax_output = model(batch_inputs)\n",
    "            predictions = softmax_output.argmax(dim=1) # get the index of the max log-probability\n",
    "            correct += (predictions == batch_targets).sum().item()\n",
    "    return 100 * correct / len(data.dataset)\n",
    "    "
   ]
  },
  {
   "cell_type": "code",
   "execution_count": 12,
   "metadata": {
    "pycharm": {
     "is_executing": false,
     "name": "#%% \n"
    }
   },
   "outputs": [
    {
     "name": "stdout",
     "output_type": "stream",
     "text": [
      "Train top-1: 91.06% | Test top-1: 91.46%\n"
     ]
    }
   ],
   "source": [
    "train_accuracy = test(naive_net, train_loader, device=device)\n",
    "test_accuracy = test(naive_net, test_loader, device=device)\n",
    "print(f\"Train top-1: {train_accuracy:.2f}% | Test top-1: {test_accuracy:.2f}%\")"
   ]
  },
  {
   "cell_type": "markdown",
   "metadata": {},
   "source": [
    "Even our simple single-layer network achieves around 91% accuracy on the MNIST dataset after only a minute of training.\n",
    "\n",
    "Keep in mind though that this is a simple dataset and that [state-of-the-art](https://paperswithcode.com/sota/image-classification-on-mnist) is around 99.8%."
   ]
  },
  {
   "cell_type": "markdown",
   "metadata": {
    "pycharm": {
     "name": "#%% md\n"
    }
   },
   "source": [
    "# Multi-layer network\n",
    "To get to near 100% accuracy, we need to improve our model.\n",
    "We'll do so by using a deep-ish network of 2 convolutional layers followed by 2 fully-connected layers (if you don't know about convolutional layers, [Stanford's CS231n](https://cs231n.github.io/convolutional-networks/) has good explanations).\n",
    "Each of the hidden layers will be followed by a [ReLU activation function](http://www.cs.toronto.edu/~fritz/absps/reluICML.pdf) and the convolutional layers are additionally followed by a max-pool operation to reduce the spatial size of the representation.\n",
    "\n",
    "<img src=\"ressources/deepnet.png\" alt=\"deepnet architecture\" title=\"image modified from https://towardsdatascience.com/a-simple-2d-cnn-for-mnist-digit-recognition-a998dbc1e79a\" width=\"300\" />"
   ]
  },
  {
   "cell_type": "code",
   "execution_count": 13,
   "metadata": {
    "pycharm": {
     "is_executing": false,
     "name": "#%%\n"
    }
   },
   "outputs": [
    {
     "data": {
      "application/vnd.jupyter.widget-view+json": {
       "model_id": "1d42d86750b8413ea2ac5447e898d1cc",
       "version_major": 2,
       "version_minor": 0
      },
      "text/plain": [
       "HBox(children=(IntProgress(value=0, description='training steps', max=180000, style=ProgressStyle(description_…"
      ]
     },
     "metadata": {},
     "output_type": "display_data"
    },
    {
     "data": {
      "image/png": "[encoded data removed]",
      "text/plain": [
       "<Figure size 432x288 with 1 Axes>"
      ]
     },
     "metadata": {
      "needs_background": "light"
     },
     "output_type": "display_data"
    },
    {
     "name": "stdout",
     "output_type": "stream",
     "text": [
      "Train top-1: 98.45% | Test top-1: 98.43%\n"
     ]
    }
   ],
   "source": [
    "class DeepNet(torch.nn.Module):\n",
    "    def __init__(self):\n",
    "        super(DeepNet, self).__init__()\n",
    "        self.conv1 = torch.nn.Conv2d(1, 20, 5, 1)\n",
    "        self.conv2 = torch.nn.Conv2d(20, 50, 5, 1)\n",
    "        self.fc1 = torch.nn.Linear(4*4*50, 500)\n",
    "        self.fc2 = torch.nn.Linear(500, 10)\n",
    "\n",
    "    def forward(self, x):\n",
    "        x = F.relu(self.conv1(x))\n",
    "        x = F.max_pool2d(x, 2, 2)\n",
    "        x = F.relu(self.conv2(x))\n",
    "        x = F.max_pool2d(x, 2, 2)\n",
    "        x = x.view(-1, 4*4*50)\n",
    "        x = F.relu(self.fc1(x))\n",
    "        x = self.fc2(x)\n",
    "        return F.log_softmax(x, dim=1)\n",
    "\n",
    "# train\n",
    "deepnet = DeepNet()\n",
    "deepnet = deepnet.to(device)\n",
    "losses = train(deepnet, train_loader, num_epochs=3, device=device)\n",
    "pyplot.scatter(x=list(range(len(losses))), y=losses)\n",
    "pyplot.show()\n",
    "\n",
    "# test\n",
    "train_accuracy = test(deepnet, train_loader, device=device)\n",
    "test_accuracy = test(deepnet, test_loader, device=device)\n",
    "print(f\"Train top-1: {train_accuracy:.2f}% | Test top-1: {test_accuracy:.2f}%\")\n"
   ]
  },
  {
   "cell_type": "markdown",
   "metadata": {},
   "source": [
    "The deep network gets us pretty close to state-of-the-art with around 99% correct.\n",
    "Granted, MNIST is a toy dataset nowadays, but most of the techniques introduced until now carry over to larger datasets such as CIFAR or ImageNet."
   ]
  },
  {
   "cell_type": "markdown",
   "metadata": {
    "pycharm": {
     "name": "#%% md\n"
    }
   },
   "source": [
    "Side note: I like PyTorch because the code is intuitive to write and involves minimal boiler-plate.\n",
    "For an impression of what I mean, compare the definition of the network and training here with an equivalent tutorial in TensorFlow: https://github.com/tensorflow/models/blob/master/official/mnist/mnist.py"
   ]
  },
  {
   "cell_type": "markdown",
   "metadata": {
    "pycharm": {
     "name": "#%% md\n"
    }
   },
   "source": [
    "### quick training FAQ (following Andrew Ng's deep learning recipe)\n",
    "\n",
    "* model can't fit the data? \n",
    "    \n",
    "    -> bigger network\n",
    "    \n",
    "    -> train longer\n",
    "    \n",
    "    -> different architecture\n",
    "    \n",
    "* low accuracy on test data?\n",
    "\n",
    "    -> more data\n",
    "    \n",
    "    -> more regularization\n",
    "    \n",
    "    -> different architecture"
   ]
  },
  {
   "cell_type": "markdown",
   "metadata": {
    "pycharm": {
     "name": "#%% md\n"
    }
   },
   "source": [
    "# weight & feature visualization\n",
    "\n",
    "Finally, let's look at what the network has learned.\n",
    "\n",
    "We can easily visualize the first-layer weights, because they just operate on the image itself and thus only have single-channel input (grayscale, or in RGB 3-channel)."
   ]
  },
  {
   "cell_type": "code",
   "execution_count": 14,
   "metadata": {
    "pycharm": {
     "name": "#%% \n"
    }
   },
   "outputs": [
    {
     "data": {
      "image/png": "[encoded data removed]",
      "text/plain": [
       "<Figure size 1440x288 with 20 Axes>"
      ]
     },
     "metadata": {},
     "output_type": "display_data"
    }
   ],
   "source": [
    "def visualize_conv(weights):\n",
    "    fig, axes = pyplot.subplots(ncols=weights.shape[0], figsize=(20, 4))\n",
    "    for ax, filter_num in zip(axes, range(weights.shape[0])):\n",
    "        filter_weights = weights[filter_num].data.squeeze()\n",
    "        ax.imshow(filter_weights, cmap='gray')\n",
    "        ax.set_xticks([])\n",
    "        ax.set_yticks([])\n",
    "        ax.set_title(f\"Filter {filter_num}\")\n",
    "\n",
    "visualize_conv(deepnet.conv1.weight)"
   ]
  },
  {
   "cell_type": "markdown",
   "metadata": {},
   "source": [
    "For networks trained on large-scale RGB image datasets, the first-level filters typically start looking like Gabors and color filters:\n",
    "<img src=\"ressources/conv1.png\" alt=\"conv1 filters (CORnet-S on ImageNet)\" title=\"conv1 filters from training CORnet-S on ImageNet\" width=\"300\" />"
   ]
  },
  {
   "cell_type": "markdown",
   "metadata": {},
   "source": [
    "We can also visualize the feature map."
   ]
  },
  {
   "cell_type": "code",
   "execution_count": 15,
   "metadata": {
    "scrolled": true
   },
   "outputs": [
    {
     "data": {
      "image/png": "[encoded data removed]",
      "text/plain": [
       "<Figure size 1440x288 with 21 Axes>"
      ]
     },
     "metadata": {},
     "output_type": "display_data"
    }
   ],
   "source": [
    "# from https://discuss.pytorch.org/t/visualize-feature-map/29597/2\n",
    "activations = {}\n",
    "def get_activation(name):\n",
    "    def hook(model, input, output):\n",
    "        activations[name] = output.detach()\n",
    "    return hook\n",
    "\n",
    "deepnet.conv1.register_forward_hook(get_activation('conv1'))\n",
    "image, _ = mnist_train[0]\n",
    "image.unsqueeze_(0)\n",
    "output = deepnet(image)\n",
    "\n",
    "activations = activations['conv1'].squeeze()\n",
    "fig, axes = pyplot.subplots(ncols=activations.shape[0] + 1, figsize=(20, 4))\n",
    "axes[0].imshow(image.squeeze(), cmap='gray')\n",
    "axes[0].set_title('image')\n",
    "for filter_num, (ax, filter_activations) in enumerate(zip(axes[1:], activations)):\n",
    "    ax.imshow(filter_activations, cmap='gray')\n",
    "    ax.set_title(f'filter {filter_num}')\n",
    "for ax in axes:\n",
    "    ax.set_xticks([])\n",
    "    ax.set_yticks([])\n",
    "    "
   ]
  },
  {
   "cell_type": "markdown",
   "metadata": {},
   "source": [
    "# Implementing custom models"
   ]
  },
  {
   "attachments": {},
   "cell_type": "markdown",
   "metadata": {},
   "source": [
    "You can easily implement custom activations functions, weight layers, loss functions and more.\n",
    "As long as you operate on tensors, PyTorch's autograd package will take care of computing the gradients.\n",
    "\n",
    "As an example, we can implement a [SeLU](http://papers.nips.cc/paper/6698-self-normalizing-neural-networks) activation function.\n",
    "\\begin{align}\n",
    "\\text{selu}(x) \n",
    "= \\lambda \\left\\{\n",
    "              \\begin{array}{ll}\n",
    "                  x & \\text{if }x > 0\\\\\n",
    "                  \\alpha e^x - \\alpha & \\text{if }x \\leq 0\n",
    "              \\end{array}\n",
    "          \\right.\n",
    "= \\lambda \\times (max(0, x) + min(0, \\alpha e^x - \\alpha))\n",
    "\\end{align}"
   ]
  },
  {
   "cell_type": "code",
   "execution_count": 16,
   "metadata": {},
   "outputs": [
    {
     "data": {
      "application/vnd.jupyter.widget-view+json": {
       "model_id": "53d44c4aec874aeea4955fe8dbd36a47",
       "version_major": 2,
       "version_minor": 0
      },
      "text/plain": [
       "HBox(children=(IntProgress(value=0, description='training steps', max=300000, style=ProgressStyle(description_…"
      ]
     },
     "metadata": {},
     "output_type": "display_data"
    },
    {
     "name": "stdout",
     "output_type": "stream",
     "text": [
      "Test top-1: 91.53%\n"
     ]
    },
    {
     "data": {
      "image/png": "[encoded data removed]",
      "text/plain": [
       "<Figure size 432x288 with 1 Axes>"
      ]
     },
     "metadata": {
      "needs_background": "light"
     },
     "output_type": "display_data"
    }
   ],
   "source": [
    "from math import e\n",
    "\n",
    "class SeLU(torch.nn.Module):\n",
    "    def __init__(self, alpha=1.6732632423543772848170429916717, scale=1.0507009873554804934193349852946):\n",
    "        super(SeLU, self).__init__()\n",
    "        self._alpha = alpha\n",
    "        self._scale = scale\n",
    "        \n",
    "    def forward(self, x):\n",
    "        zero = torch.zeros_like(x)\n",
    "        return self._scale * (torch.max(zero, x) + torch.min(zero, self._alpha * (e ** x) - self._alpha))\n",
    "        # or even simpler: return self._scale * F.elu(x, self._alpha)\n",
    "\n",
    "class SeLUNet(torch.nn.Module):\n",
    "    def __init__(self):\n",
    "        super(SeLUNet, self).__init__()\n",
    "        self.fc = torch.nn.Linear(28 * 28, 10)\n",
    "        self.selu = SeLU()\n",
    "        \n",
    "    def forward(self, x):\n",
    "        x = torch.flatten(x, start_dim=1)\n",
    "        x = self.fc(x)\n",
    "        x = self.selu(x)\n",
    "        return F.softmax(x, dim=1)\n",
    "    \n",
    "selu_net = SeLUNet()\n",
    "selu_net = selu_net.to(device)\n",
    "losses = train(selu_net, train_loader, device=device)\n",
    "pyplot.scatter(x=list(range(len(losses))), y=losses)\n",
    "\n",
    "test_accuracy = test(selu_net, test_loader, device=device)\n",
    "print(f\"Test top-1: {test_accuracy:.2f}%\")"
   ]
  },
  {
   "cell_type": "markdown",
   "metadata": {},
   "source": [
    "Or, we could implement a custom loss function. As an example, we'll implement an L1-norm sparseness constraint on the weight activations."
   ]
  },
  {
   "cell_type": "code",
   "execution_count": 17,
   "metadata": {},
   "outputs": [
    {
     "data": {
      "application/vnd.jupyter.widget-view+json": {
       "model_id": "eae176f8382c47258bbe2756aecfe94d",
       "version_major": 2,
       "version_minor": 0
      },
      "text/plain": [
       "HBox(children=(IntProgress(value=0, description='training steps', max=60000, style=ProgressStyle(description_w…"
      ]
     },
     "metadata": {},
     "output_type": "display_data"
    },
    {
     "data": {
      "application/vnd.jupyter.widget-view+json": {
       "model_id": "9759550e1c1943e1ba7d0c3bbc970c13",
       "version_major": 2,
       "version_minor": 0
      },
      "text/plain": [
       "HBox(children=(IntProgress(value=0, description='training steps (regularization)', max=60000, style=ProgressSt…"
      ]
     },
     "metadata": {},
     "output_type": "display_data"
    },
    {
     "name": "stdout",
     "output_type": "stream",
     "text": [
      "Test top-1: 9.12%\n"
     ]
    },
    {
     "data": {
      "text/plain": [
       "<matplotlib.legend.Legend at 0x209b7bf5c88>"
      ]
     },
     "execution_count": 17,
     "metadata": {},
     "output_type": "execute_result"
    },
    {
     "data": {
      "image/png": "[encoded data removed]",
      "text/plain": [
       "<Figure size 432x288 with 1 Axes>"
      ]
     },
     "metadata": {
      "needs_background": "light"
     },
     "output_type": "display_data"
    }
   ],
   "source": [
    "def l1_norm(model):  # pytorch has a built-in for this too, we could just use torch.nn.L1Loss\n",
    "    norm = 0\n",
    "    for param in model.parameters():\n",
    "        norm += torch.sum(torch.abs(param))\n",
    "    return norm\n",
    "\n",
    "\n",
    "def regularized_train(model, data_loader, num_epochs=5, learning_rate=0.01, momentum=0.5, device='cpu'):\n",
    "    model.train()\n",
    "    categorization_loss = torch.nn.CrossEntropyLoss()\n",
    "    optimizer = torch.optim.SGD(model.parameters(), lr=learning_rate, momentum=momentum)\n",
    "    losses = []\n",
    "    step_progressbar = tqdm(total=num_epochs * len(data_loader.dataset), desc='training steps (regularization)')\n",
    "    for epoch in range(num_epochs):\n",
    "        for batch_inputs, batch_targets in data_loader:\n",
    "            batch_inputs, batch_targets = batch_inputs.to(device), batch_targets.to(device)\n",
    "            optimizer.zero_grad()  # reset gradients\n",
    "            predictions = model(batch_inputs)\n",
    "            batch_categorization_loss = categorization_loss(predictions, batch_targets)\n",
    "            regularization_loss = l1_norm(model)\n",
    "            batch_loss = batch_categorization_loss + regularization_loss\n",
    "            batch_loss.backward()  # backward step: compute gradients\n",
    "            optimizer.step()  # optimizer step: apply gradients to parameters\n",
    "            step_progressbar.update(len(batch_inputs))\n",
    "            step_progressbar.set_postfix(loss=batch_loss.item(), epoch=epoch)\n",
    "            losses.append(batch_loss.item())\n",
    "    return losses\n",
    "\n",
    "\n",
    "unregularized_selu_net = SeLUNet()\n",
    "regularized_selu_net = SeLUNet()\n",
    "train(unregularized_selu_net, train_loader, num_epochs=1, device=device)\n",
    "regularized_train(regularized_selu_net, train_loader, num_epochs=1, device=device)\n",
    "\n",
    "test_accuracy = test(regularized_selu_net, test_loader, device=device)\n",
    "print(f\"Test top-1: {test_accuracy:.2f}%\")\n",
    "   \n",
    "unregularized_weights = unregularized_selu_net.fc.weight.detach().numpy().reshape(-1)\n",
    "regularized_weights = regularized_selu_net.fc.weight.detach().numpy().reshape(-1)\n",
    "pyplot.hist([unregularized_weights, regularized_weights], bins=40, label=['unregularized', 'regularized'])\n",
    "pyplot.xlabel('weight value')\n",
    "pyplot.ylabel('frequency')\n",
    "pyplot.legend()"
   ]
  },
  {
   "cell_type": "markdown",
   "metadata": {
    "pycharm": {
     "name": "#%% md\n"
    }
   },
   "source": [
    "# Beyond this tutorial\n",
    "\n",
    "Obviously, image classification is just a small part of the PyTorch ecosystem.\n",
    "In vision, you might be interested in [super resolution](https://github.com/pytorch/examples/blob/master/super_resolution), [GANs](https://github.com/pytorch/examples/blob/master/dcgan) or [semantic segmentation](https://github.com/CSAILVision/semantic-segmentation-pytorch).\n",
    "In Natural Language Processing (NLP), we can [predict next words](https://github.com/pytorch/examples/tree/master/snli), or [translate between languages](https://github.com/OpenNMT/OpenNMT-py).\n",
    "There are more examples around [Reinforcement Learning (RL)](https://github.com/pytorch/examples/tree/master/reinforcement_learning) and many more."
   ]
  }
 ],
 "metadata": {
  "kernelspec": {
   "display_name": "Python 3",
   "language": "python",
   "name": "python3"
  },
  "language_info": {
   "codemirror_mode": {
    "name": "ipython",
    "version": 3
   },
   "file_extension": ".py",
   "mimetype": "text/x-python",
   "name": "python",
   "nbconvert_exporter": "python",
   "pygments_lexer": "ipython3",
   "version": "3.7.4"
  },
  "pycharm": {
   "stem_cell": {
    "cell_type": "raw",
    "metadata": {
     "collapsed": false
    },
    "source": []
   }
  }
 },
 "nbformat": 4,
 "nbformat_minor": 1
}
